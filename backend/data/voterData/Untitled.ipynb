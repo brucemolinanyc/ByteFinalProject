{
 "cells": [
  {
   "cell_type": "code",
   "execution_count": 1,
   "metadata": {},
   "outputs": [
    {
     "data": {
      "text/plain": [
       "('ROBINSON',\n",
       " 'KENNETH',\n",
       " '',\n",
       " '',\n",
       " '930',\n",
       " '',\n",
       " '2',\n",
       " '',\n",
       " 'NIAGARA AVE ',\n",
       " '',\n",
       " 'NIAGARA FALLS',\n",
       " '14305',\n",
       " '',\n",
       " '',\n",
       " '',\n",
       " '',\n",
       " '',\n",
       " '19440226',\n",
       " 'M',\n",
       " 'WOR',\n",
       " '',\n",
       " '32',\n",
       " '3',\n",
       " '4',\n",
       " 'Niagara Falls',\n",
       " '004',\n",
       " '26',\n",
       " '62',\n",
       " '145',\n",
       " '20121106',\n",
       " '',\n",
       " '  ',\n",
       " '',\n",
       " '',\n",
       " '1068866',\n",
       " '20070517',\n",
       " 'CBOE',\n",
       " 'N',\n",
       " 'Y',\n",
       " 'ACTIVE',\n",
       " '',\n",
       " '',\n",
       " '',\n",
       " 'NY000000000003306211',\n",
       " '2012 General Election')"
      ]
     },
     "execution_count": 1,
     "metadata": {},
     "output_type": "execute_result"
    }
   ],
   "source": [
    "data = \"SEXTON\",\"COLLEEN\",\"M\",\"\",\"703\",\"\",\"\",\"\",\"WURLITZER DR\",\"\",\"N TONAWANDA\",\"14120\",\"1948\",\"\",\"\",\"\",\"\",\"19710331\",\"F\",\"DEM\",\"\",\"32\",\"6\",\"9\",\"N Tonawanda\",\"003\",\"26\",\"62\",\"140\",\"20121106\",\"\",\"  \",\"\",\"\",\"M098132\",\"19890413\",\"CBOE\",\"N\",\"Y\",\"PURGED\",\"MOVED\",\"\",\"20140611\",\"NY000000000003306194\",\"2012 General Election;2010 General Election;2008 General Election\"\n",
    "\"STEILS\",\"BRIAN\",\"S\",\"\",\"6312\",\"\",\"\",\"\",\"GREEN VALLEY LN \",\"\",\"LOCKPORT\",\"14094\",\"\",\"\",\"\",\"\",\"\",\"19720601\",\"M\",\"REP\",\"\",\"32\",\"10\",\"12\",\"Town of Lockport\",\"000\",\"27\",\"62\",\"144\",\"\",\"\",\"  \",\"\",\"\",\"M105403\",\"19900607\",\"CBOE\",\"N\",\"Y\",\"ACTIVE\",\"\",\"\",\"\",\"NY000000000003306195\",\"\"\n",
    "\"JEFFORDS\",\"RYAN\",\"D\",\"\",\"1408\",\"\",\"\",\"\",\"ELDERBERRY PL \",\"\",\"NIAGARA FALLS\",\"14304\",\"\",\"PO BOX 772\",\"NIAGARA FALLS, NY 14304\",\"\",\"\",\"19720721\",\"M\",\"DEM\",\"\",\"32\",\"6\",\"5\",\"Town of Niagara\",\"000\",\"27\",\"62\",\"145\",\"\",\"\",\"  \",\"\",\"\",\"M109185\",\"19910115\",\"DMV\",\"N\",\"Y\",\"ACTIVE\",\"\",\"\",\"\",\"NY000000000003306196\",\"\"\n",
    "\"SINDONI\",\"ANTHONY\",\"M\",\"\",\"9257\",\"\",\"\",\"\",\"COLEMAN RD \",\"\",\"BARKER\",\"14012\",\"\",\"\",\"\",\"\",\"\",\"19561106\",\"M\",\"REP\",\"\",\"32\",\"2\",\"14\",\"Somerset\",\"000\",\"27\",\"62\",\"144\",\"20121106\",\"\",\"  \",\"\",\"\",\"M136177\",\"19930226\",\"MAIL\",\"N\",\"Y\",\"INACTIVE\",\"MAILCHECK\",\"20150805\",\"\",\"NY000000000003306197\",\"2012 General Election;2012 Presidential Primary;2011 Primary Election;2010 General Election;2010 Primary Election;2008 General Election;2008 PRESIDENTIAL PRIMARY;2007 General Election\"\n",
    "\"OSTROWSKI\",\"JENNIE\",\"M\",\"\",\"7011\",\"\",\"\",\"\",\"MONROE ST \",\"\",\"LOCKPORT\",\"14094\",\"\",\"\",\"\",\"\",\"\",\"19751125\",\"F\",\"DEM\",\"\",\"32\",\"6\",\"11\",\"Pendleton\",\"000\",\"27\",\"62\",\"146\",\"20181106\",\"\",\"  \",\"\",\"\",\"M142110\",\"19931202\",\"CBOE\",\"N\",\"Y\",\"ACTIVE\",\"\",\"\",\"\",\"NY000000000003306198\",\"2018 General Election;2017 General Election;2016 General Election;2016 Presidential Primary;2015 General Election;2014 General Election;2013 General Election;2012 General Election;2010 General Election;2008 General Election;2007 General Election\"\n",
    "\"KINDZIA\",\"JULIE\",\"D\",\"\",\"573\",\"\",\"\",\"\",\"80TH ST \",\"\",\"NIAGARA FALLS\",\"14304\",\"\",\"\",\"\",\"\",\"\",\"19700919\",\"F\",\"DEM\",\"\",\"32\",\"8\",\"3\",\"Niagara Falls\",\"003\",\"26\",\"62\",\"145\",\"\",\"\",\"  \",\"\",\"\",\"M146124\",\"19961209\",\"CBOE\",\"N\",\"Y\",\"ACTIVE\",\"\",\"\",\"\",\"NY000000000003306199\",\"\"\n",
    "\"SPEER\",\"SHIRLEY\",\"M\",\"\",\"822\",\"\",\"\",\"\",\"CEDAR AVE\",\"\",\"NIAGARA FALLS\",\"14301\",\"\",\"\",\"\",\"\",\"\",\"19340118\",\"F\",\"DEM\",\"\",\"32\",\"8\",\"1\",\"Niagara Falls\",\"001\",\"28\",\"60\",\"138\",\"\",\"\",\"15\",\"3420 WALLACE DR GRAND ISLAND NY\",\"\",\"M153440\",\"19961209\",\"CBOE\",\"N\",\"Y\",\"PURGED\",\"DEATH\",\"\",\"20081007\",\"NY000000000003306200\",\"\"\n",
    "\"MARTIN\",\"ANDRE\",\"\",\"\",\"2914\",\"\",\"\",\"\",\"21ST ST \",\"\",\"NIAGARA FALLS\",\"14305\",\"\",\"\",\"\",\"\",\"\",\"19621228\",\"M\",\"DEM\",\"\",\"32\",\"2\",\"4\",\"Niagara Falls\",\"004\",\"26\",\"62\",\"145\",\"20181106\",\"\",\"  \",\"\",\"\",\"M167334\",\"19960524\",\"CBOE\",\"N\",\"Y\",\"ACTIVE\",\"\",\"\",\"\",\"NY000000000003306201\",\"2018 General Election;2016 General Election;2012 General Election;2011 Primary Election;2010 General Election;2008 General Election;2008 PRESIDENTIAL PRIMARY;2007 General Election\"\n",
    "\"GILL\",\"RAY\",\"J\",\"JR\",\"18\",\"\",\"2\",\"\",\"HARVEY AVE \",\"\",\"LOCKPORT\",\"14094\",\"\",\"\",\"\",\"\",\"\",\"19591230\",\"M\",\"CON\",\"\",\"32\",\"4\",\"13\",\"City of Lockport\",\"004\",\"27\",\"62\",\"144\",\"20171107\",\"\",\"  \",\"\",\"\",\"M174240\",\"19961125\",\"CBOE\",\"N\",\"Y\",\"ACTIVE\",\"\",\"\",\"\",\"NY000000000003306202\",\"2017 General Election;2016 General Election;2015 General Election;2015 Primary Election;2014 General Election;2012 General Election;2008 General Election;2008 Primary Election\"\n",
    "\"WENDELL\",\"JENNIFER\",\"J\",\"\",\"8555\",\"\",\"\",\"\",\"KRULL PKWY \",\"\",\"NIAGARA FALLS\",\"14304\",\"2458\",\"\",\"\",\"\",\"\",\"19781112\",\"F\",\"DEM\",\"\",\"32\",\"8\",\"3\",\"Niagara Falls\",\"003\",\"26\",\"62\",\"145\",\"20181106\",\"\",\"  \",\"\",\"\",\"M174647\",\"19961203\",\"CBOE\",\"N\",\"Y\",\"ACTIVE\",\"\",\"\",\"\",\"NY000000000003306203\",\"2018 General Election;2017 General Election;2016 Presidential Primary;2012 General Election;2008 General Election\"\n",
    "\"GANSHAW\",\"JEREMY\",\"M\",\"\",\"456\",\"\",\"\",\"\",\"CHESTNUT DR \",\"\",\"LOCKPORT\",\"14094\",\"9168\",\"\",\"\",\"\",\"\",\"19890517\",\"M\",\"IND\",\"\",\"32\",\"5\",\"12\",\"Town of Lockport\",\"000\",\"27\",\"62\",\"144\",\"\",\"\",\"  \",\"\",\"\",\"1068862\",\"20070517\",\"DMV\",\"N\",\"Y\",\"ACTIVE\",\"\",\"\",\"\",\"NY000000000003306204\",\"\"\n",
    "\"SABER\",\"BRITTANY\",\"M\",\"\",\"666\",\"\",\"\",\"\",\"GARDENWOOD DR \",\"\",\"LOCKPORT\",\"14094\",\"\",\"\",\"\",\"\",\"\",\"19890517\",\"F\",\"DEM\",\"\",\"32\",\"6\",\"12\",\"Town of Lockport\",\"000\",\"27\",\"62\",\"144\",\"\",\"\",\"  \",\"\",\"\",\"1068863\",\"20070517\",\"CBOE\",\"Y\",\"N\",\"ACTIVE\",\"\",\"\",\"\",\"NY000000000003306205\",\"\"\n",
    "\"PIETROWSKI\",\"CHRISTOPHER\",\"M\",\"\",\"660\",\"\",\"\",\"\",\"HUBB SHUTTS RD\",\"\",\"COBLESKILL\",\"12043\",\"\",\"\",\"\",\"\",\"\",\"19890515\",\"M\",\"BLK\",\"\",\"47\",\"1\",\"\",\"Carlisle\",\"\",\"21\",\"51\",\"127\",\"\",\"\",\"  \",\"\",\"\",\"1038815\",\"20070510\",\"SCHOOL\",\"N\",\"Y\",\"PURGED\",\"COURT\",\"\",\"20090825\",\"NY000000000003306206\",\"\"\n",
    "\"COX\",\"EARL\",\"\",\"\",\"829\",\"\",\"\",\"\",\"PARK AVE \",\"\",\"N TONAWANDA\",\"14120\",\"\",\"\",\"\",\"\",\"\",\"19280820\",\"M\",\"DEM\",\"\",\"32\",\"12\",\"9\",\"N Tonawanda\",\"003\",\"26\",\"62\",\"140\",\"20161108\",\"\",\"15\",\"342 WESTGATE RD BUFFALO NY 14217\",\"\",\"1068864\",\"20070517\",\"CBOE\",\"N\",\"Y\",\"ACTIVE\",\"\",\"\",\"\",\"NY000000000003306207\",\"2016 General Election;2015 General Election;2014 General Election;2012 General Election;2011 General Election;2011 Special Election 26th Cong Dist;2010 General Election;2009 General Election;2008 General Election;2008 PRESIDENTIAL PRIMARY;2007 General Election\"\n",
    "\"TRACY\",\"DARIA\",\"L\",\"\",\"1743\",\"\",\"\",\"\",\"CUDABACK AVE\",\"\",\"NIAGARA FALLS\",\"14303\",\"\",\"\",\"\",\"\",\"\",\"19760224\",\"F\",\"BLK\",\"\",\"32\",\"6\",\"6\",\"Niagara Falls\",\"006\",\"26\",\"62\",\"145\",\"\",\"\",\"  \",\"\",\"\",\"1068865\",\"20070517\",\"CBOE\",\"N\",\"Y\",\"PURGED\",\"OTHER\",\"\",\"20130111\",\"NY000000000003306208\",\"\"\n",
    "\"ZUCCARO\",\"JAMIE\",\"A\",\"\",\"835\",\"\",\"\",\"\",\"THE CIRCLE \",\"\",\"LEWISTON\",\"14092\",\"\",\"\",\"\",\"\",\"\",\"19840326\",\"F\",\"DEM\",\"\",\"32\",\"5\",\"2\",\"Lewiston\",\"000\",\"27\",\"62\",\"145\",\"20161108\",\"\",\"  \",\"\",\"\",\"1058682\",\"20050329\",\"DMV\",\"N\",\"Y\",\"ACTIVE\",\"\",\"\",\"\",\"NY000000000003306209\",\"2016 General Election;2008 General Election;2007 General Election\"\n",
    "\"HOLTON\",\"WILLIE\",\"J\",\"\",\"2511\",\"\",\"\",\"\",\"CAYUGA ST \",\"\",\"NIAGARA FALLS\",\"14304\",\"\",\"\",\"\",\"\",\"\",\"19551126\",\"M\",\"DEM\",\"\",\"32\",\"2\",\"2\",\"Wheatfield\",\"000\",\"27\",\"62\",\"145\",\"20181106\",\"\",\"15\",\"120 FLOSS AVE BUFFALO NY\",\"\",\"1067668\",\"20070213\",\"CBOE\",\"N\",\"Y\",\"ACTIVE\",\"\",\"\",\"\",\"NY000000000003306210\",\"2018 General Election;2016 General Election;2016 Presidential Primary;2012 General Election;2008 General Election;2007 General Election\"\n",
    "\"ROBINSON\",\"KENNETH\",\"\",\"\",\"930\",\"\",\"2\",\"\",\"NIAGARA AVE \",\"\",\"NIAGARA FALLS\",\"14305\",\"\",\"\",\"\",\"\",\"\",\"19440226\",\"M\",\"WOR\",\"\",\"32\",\"3\",\"4\",\"Niagara Falls\",\"004\",\"26\",\"62\",\"145\",\"20121106\",\"\",\"  \",\"\",\"\",\"1068866\",\"20070517\",\"CBOE\",\"N\",\"Y\",\"ACTIVE\",\"\",\"\",\"\",\"NY000000000003306211\",\"2012 General Election\"\n"
   ]
  },
  {
   "cell_type": "code",
   "execution_count": 2,
   "metadata": {},
   "outputs": [],
   "source": [
    "import pandas as pd\n"
   ]
  },
  {
   "cell_type": "code",
   "execution_count": null,
   "metadata": {},
   "outputs": [],
   "source": []
  }
 ],
 "metadata": {
  "kernelspec": {
   "display_name": "Python 3",
   "language": "python",
   "name": "python3"
  },
  "language_info": {
   "codemirror_mode": {
    "name": "ipython",
    "version": 3
   },
   "file_extension": ".py",
   "mimetype": "text/x-python",
   "name": "python",
   "nbconvert_exporter": "python",
   "pygments_lexer": "ipython3",
   "version": "3.7.2"
  }
 },
 "nbformat": 4,
 "nbformat_minor": 2
}
